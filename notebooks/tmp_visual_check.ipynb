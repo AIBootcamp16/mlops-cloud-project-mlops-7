{
  "cells": [
    {
      "cell_type": "markdown",
      "id": "943176b7",
      "metadata": {},
      "source": [
        "# Commute Weather Pipeline – E2E Inspection\n",
        "이 노트북은 데이터 수집 → 전처리 → ML 데이터셋 적재 → EDA/시각화 모듈 검증까지 한 번에 확인하기 위한 임시 도구입니다.\n",
        "작업을 마친 뒤에는 저장소에 커밋하지 않고 삭제하거나 개인 백업용으로만 보관하세요."
      ]
    },
    {
      "cell_type": "markdown",
      "id": "cc160de9",
      "metadata": {},
      "source": [
        "## 0. 사전 준비\n",
        "- `.env`에 KMA API와 S3(LocalStack) 자격 정보가 준비되어 있다고 가정합니다.\n",
        "- Docker dev 컨테이너 안에서 `pip install jupyterlab` 후 `jupyter lab`으로 접속해 실행하세요."
      ]
    },
    {
      "cell_type": "code",
      "execution_count": null,
      "id": "aded7f7f",
      "metadata": {
        "tags": [
          "setup"
        ]
      },
      "outputs": [],
      "source": [
        "from datetime import datetime, timedelta, timezone\n",
        "from pathlib import Path\n",
        "\n",
        "import pandas as pd\n",
        "from IPython.display import display\n",
        "\n",
        "from src.data.weather_processor import WeatherDataProcessor\n",
        "from src.utils.config import KMAApiConfig, S3Config\n",
        "from src.visualization import (\n",
        "    plot_temperature_trend,\n",
        "    plot_pm10_distribution,\n",
        "    plot_uv_intensity,\n",
        "    plot_comfort_score_timeseries,\n",
        "    WeatherVisualizationReport,\n",
        ")\n",
        "from src.eda import (\n",
        "    build_overall_profile,\n",
        "    build_station_profile,\n",
        "    run_data_quality_checks,\n",
        ")\n",
        "\n",
        "kma_config = KMAApiConfig.from_env()\n",
        "s3_config = S3Config.from_env()\n",
        "processor = WeatherDataProcessor(kma_config=kma_config, s3_config=s3_config)\n",
        "\n",
        "print(\"환경 설정 완료\")"
      ]
    },
    {
      "cell_type": "markdown",
      "id": "e48e5f9d",
      "metadata": {},
      "source": [
        "## 1. (선택) 최신 기상 데이터 수집 및 S3 저장\n",
        "`FETCH_NEW_DATA`를 `True`로 바꾸면 KMA API에서 데이터를 받아 S3에 적재합니다.\n",
        "외부 네트워크가 막혀 있거나 비용이 부담된다면 False로 두고 기존 데이터를 사용하세요."
      ]
    },
    {
      "cell_type": "code",
      "execution_count": null,
      "id": "e81f0a79",
      "metadata": {
        "tags": [
          "ingest"
        ]
      },
      "outputs": [],
      "source": [
        "FETCH_NEW_DATA = False\n",
        "TARGET_OFFSET_HOURS = 1\n",
        "\n",
        "if FETCH_NEW_DATA:\n",
        "    target_time = datetime.now(tz=timezone.utc) - timedelta(hours=TARGET_OFFSET_HOURS)\n",
        "    print(f\"데이터 수집 시점: {target_time.isoformat()}\")\n",
        "\n",
        "    asos_raw = processor.fetch_weather_data(\"asos\")\n",
        "    pm10_raw = processor.fetch_weather_data(\"pm10\")\n",
        "    uv_raw = processor.fetch_weather_data(\"uv\")\n",
        "\n",
        "    stored = processor.process_and_store_weather_data(\n",
        "        asos_raw=asos_raw,\n",
        "        pm10_raw=pm10_raw,\n",
        "        uv_raw=uv_raw,\n",
        "        timestamp=target_time,\n",
        "    )\n",
        "    print(\"저장 완료:\", stored)\n",
        "else:\n",
        "    print(\"신규 데이터 수집 건너뜀\")"
      ]
    },
    {
      "cell_type": "markdown",
      "id": "5ce31bb4",
      "metadata": {},
      "source": [
        "## 2. S3 데이터 인벤토리 확인"
      ]
    },
    {
      "cell_type": "code",
      "execution_count": null,
      "id": "37db4a20",
      "metadata": {
        "tags": [
          "inventory"
        ]
      },
      "outputs": [],
      "source": [
        "inventory = processor.get_data_inventory()\n",
        "inventory"
      ]
    },
    {
      "cell_type": "markdown",
      "id": "869d62b7",
      "metadata": {},
      "source": [
        "## 3. ML 정제 데이터셋 로드 및 확인\n",
        "ML 파이프라인을 거쳐 생성된 parquet 데이터를 불러와 구조를 확인합니다."
      ]
    },
    {
      "cell_type": "code",
      "execution_count": null,
      "id": "0d5a3efc",
      "metadata": {
        "tags": [
          "load_ml"
        ]
      },
      "outputs": [],
      "source": [
        "dataset = processor.load_latest_ml_dataset(days_back=7)\n",
        "if dataset is None or dataset.empty:\n",
        "    raise RuntimeError(\"ML 데이터셋을 찾을 수 없습니다. 먼저 process_and_store_weather_data를 실행하세요.\")\n",
        "\n",
        "display(dataset.head())\n",
        "dataset.info(memory_usage='deep')"
      ]
    },
    {
      "cell_type": "markdown",
      "id": "0a2d5452",
      "metadata": {},
      "source": [
        "### ML 데이터셋 통계 요약"
      ]
    },
    {
      "cell_type": "code",
      "execution_count": null,
      "id": "b1a3b82a",
      "metadata": {
        "tags": [
          "load_ml"
        ]
      },
      "outputs": [],
      "source": [
        "display(dataset.describe(include='all').transpose())"
      ]
    },
    {
      "cell_type": "markdown",
      "id": "34a01c1f",
      "metadata": {},
      "source": [
        "## 4. 탐색적 데이터 분석 (EDA)"
      ]
    },
    {
      "cell_type": "code",
      "execution_count": null,
      "id": "e86fa639",
      "metadata": {
        "tags": [
          "eda"
        ]
      },
      "outputs": [],
      "source": [
        "overall_profile = build_overall_profile(dataset)\n",
        "station_profile = build_station_profile(dataset, station_id=None)\n",
        "quality_issues = run_data_quality_checks(dataset)\n",
        "\n",
        "display(overall_profile[\"summary\"].head())\n",
        "display(overall_profile[\"missing\"].T)\n",
        "if not overall_profile[\"daily_coverage\"].empty:\n",
        "    display(overall_profile[\"daily_coverage\"].tail())\n",
        "\n",
        "display(station_profile[\"percentiles\"].head())\n",
        "display(station_profile[\"comfort_score\"])\n",
        "quality_issues"
      ]
    },
    {
      "cell_type": "markdown",
      "id": "21751fa0",
      "metadata": {},
      "source": [
        "## 5. 시각화 모듈 검증 – 인라인 플롯"
      ]
    },
    {
      "cell_type": "code",
      "execution_count": null,
      "id": "da14a9d8",
      "metadata": {
        "tags": [
          "visual"
        ]
      },
      "outputs": [],
      "source": [
        "fig_temp = plot_temperature_trend(dataset)\n",
        "fig_pm10 = plot_pm10_distribution(dataset)\n",
        "fig_uv = plot_uv_intensity(dataset)\n",
        "fig_comfort = plot_comfort_score_timeseries(dataset)\n",
        "\n",
        "display(fig_temp)\n",
        "display(fig_pm10)\n",
        "display(fig_uv)\n",
        "display(fig_comfort)"
      ]
    },
    {
      "cell_type": "markdown",
      "id": "f31ae8f9",
      "metadata": {},
      "source": [
        "## 6. 리포트 저장 흐름 검증"
      ]
    },
    {
      "cell_type": "code",
      "execution_count": null,
      "id": "03e9174c",
      "metadata": {
        "tags": [
          "report"
        ]
      },
      "outputs": [],
      "source": [
        "output_dir = Path(\"data/visualizations/notebook\")\n",
        "report = WeatherVisualizationReport(output_dir)\n",
        "generated_files = report.build(dataset)\n",
        "generated_files"
      ]
    },
    {
      "cell_type": "code",
      "execution_count": null,
      "id": "b44f992b",
      "metadata": {
        "tags": [
          "report"
        ]
      },
      "outputs": [],
      "source": [
        "sorted(output_dir.glob('*'))"
      ]
    },
    {
      "cell_type": "markdown",
      "id": "a96520bb",
      "metadata": {},
      "source": [
        "## 7. 후처리\n",
        "- 산출물을 확인했으면 `rm notebooks/tmp_visual_check.ipynb`로 노트북을 삭제하거나 `.gitignore`에 추가해 주세요.\n",
        "- 저장된 시각화 파일들은 `data/visualizations/notebook/` 경로에 있습니다."
      ]
    }
  ],
  "metadata": {
    "kernelspec": {
      "display_name": "Python 3",
      "language": "python",
      "name": "python3"
    },
    "language_info": {
      "codemirror_mode": {
        "name": "ipython",
        "version": 3
      },
      "file_extension": ".py",
      "mimetype": "text/x-python",
      "name": "python",
      "nbconvert_exporter": "python",
      "pygments_lexer": "ipython3",
      "version": "3.11"
    }
  },
  "nbformat": 4,
  "nbformat_minor": 5
}
